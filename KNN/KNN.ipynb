{
 "cells": [
  {
   "cell_type": "code",
   "execution_count": 1,
   "id": "985c8072",
   "metadata": {},
   "outputs": [],
   "source": [
    "import numpy as np\n",
    "import pandas as pd\n",
    "import matplotlib.pyplot as plt\n",
    "\n",
    "from sklearn.model_selection import train_test_split\n",
    "from sklearn.metrics import accuracy_score, mean_squared_error\n",
    "from sklearn.datasets import load_iris, load_diabetes\n",
    "\n",
    "from sklearn.neighbors import KNeighborsClassifier, KNeighborsRegressor"
   ]
  },
  {
   "cell_type": "markdown",
   "id": "9ea5742d",
   "metadata": {},
   "source": [
    "# KNN"
   ]
  },
  {
   "cell_type": "code",
   "execution_count": 2,
   "id": "e1de03cd",
   "metadata": {},
   "outputs": [],
   "source": [
    "def euclidian_distance(a, b):\n",
    "    return np.sqrt(np.sum((a-b)**2, axis=1))\n",
    "\n",
    "    \n",
    "def get_neighbors(X_train, X_test, n_neighbors):\n",
    "    '''\n",
    "    Get top 'n_neighbors' for each 'X_test' values.\n",
    "    Return: 'neighbor_indices' of shape = (#X_test, n_neighbors)\n",
    "            'neighbor_dists' of shape = (#X_test, n_neighbors)\n",
    "    '''\n",
    "    neighbor_indices = []\n",
    "    \n",
    "    # Euclidian distance from each X_test to X_trains. len(dists) = #X_test\n",
    "    dists = [euclidian_distance(x_test, X_train) for x_test in X_test]\n",
    "    for dist in dists:\n",
    "        # dist.shape = (#X_train, )\n",
    "        neighbors = sorted(enumerate(dist), key=lambda x: x[1])[:n_neighbors]\n",
    "        neighbor_indices.append([neighbor[0] for neighbor in neighbors])\n",
    "    \n",
    "    return np.array(neighbor_indices)"
   ]
  },
  {
   "cell_type": "code",
   "execution_count": 3,
   "id": "eb6aa28d",
   "metadata": {},
   "outputs": [],
   "source": [
    "def knn_classifier(X_train, y_train, X_test, n_neighbors=5):\n",
    "    '''\n",
    "    KNN Classifier for # neighbors = 'n_neighbors'\n",
    "    return: 'y_pred' of shape (#X_test, )\n",
    "    '''\n",
    "    # Get top n_neighbors for each points of X_test\n",
    "    neighbors = get_neighbors(X_train, X_test, n_neighbors=n_neighbors)\n",
    "    \n",
    "    # Find indices of each neighbors and select the target with highest occurance\n",
    "    return np.array([np.argmax(np.bincount(y_train[neighbor])) for neighbor in neighbors])"
   ]
  },
  {
   "cell_type": "code",
   "execution_count": 4,
   "id": "b3c5524a",
   "metadata": {},
   "outputs": [],
   "source": [
    "def knn_regressor(X_train, y_train, X_test, n_neighbors=5):\n",
    "    '''\n",
    "    KNN Regressor for # neighbors = 'n_neighbors'\n",
    "    return: 'y_pred' of shape (#X_test, )\n",
    "    '''\n",
    "    # Get top n_neighbors for each points of X_test\n",
    "    neighbors = get_neighbors(X_train, X_test, n_neighbors=n_neighbors)\n",
    "\n",
    "    # Return the target as the mean of y_train neighbors\n",
    "    return np.array([y_train[neighbor].mean() for neighbor in neighbors])"
   ]
  },
  {
   "cell_type": "markdown",
   "id": "722dccd8",
   "metadata": {},
   "source": [
    "# Examples"
   ]
  },
  {
   "cell_type": "markdown",
   "id": "9813b85c",
   "metadata": {},
   "source": [
    "### Iris Dataset"
   ]
  },
  {
   "cell_type": "code",
   "execution_count": 5,
   "id": "baa33399",
   "metadata": {},
   "outputs": [
    {
     "data": {
      "text/html": [
       "<div>\n",
       "<style scoped>\n",
       "    .dataframe tbody tr th:only-of-type {\n",
       "        vertical-align: middle;\n",
       "    }\n",
       "\n",
       "    .dataframe tbody tr th {\n",
       "        vertical-align: top;\n",
       "    }\n",
       "\n",
       "    .dataframe thead th {\n",
       "        text-align: right;\n",
       "    }\n",
       "</style>\n",
       "<table border=\"1\" class=\"dataframe\">\n",
       "  <thead>\n",
       "    <tr style=\"text-align: right;\">\n",
       "      <th></th>\n",
       "      <th>sepal length (cm)</th>\n",
       "      <th>sepal width (cm)</th>\n",
       "      <th>petal length (cm)</th>\n",
       "      <th>petal width (cm)</th>\n",
       "    </tr>\n",
       "  </thead>\n",
       "  <tbody>\n",
       "    <tr>\n",
       "      <th>0</th>\n",
       "      <td>5.1</td>\n",
       "      <td>3.5</td>\n",
       "      <td>1.4</td>\n",
       "      <td>0.2</td>\n",
       "    </tr>\n",
       "    <tr>\n",
       "      <th>1</th>\n",
       "      <td>4.9</td>\n",
       "      <td>3.0</td>\n",
       "      <td>1.4</td>\n",
       "      <td>0.2</td>\n",
       "    </tr>\n",
       "    <tr>\n",
       "      <th>2</th>\n",
       "      <td>4.7</td>\n",
       "      <td>3.2</td>\n",
       "      <td>1.3</td>\n",
       "      <td>0.2</td>\n",
       "    </tr>\n",
       "    <tr>\n",
       "      <th>3</th>\n",
       "      <td>4.6</td>\n",
       "      <td>3.1</td>\n",
       "      <td>1.5</td>\n",
       "      <td>0.2</td>\n",
       "    </tr>\n",
       "    <tr>\n",
       "      <th>4</th>\n",
       "      <td>5.0</td>\n",
       "      <td>3.6</td>\n",
       "      <td>1.4</td>\n",
       "      <td>0.2</td>\n",
       "    </tr>\n",
       "  </tbody>\n",
       "</table>\n",
       "</div>"
      ],
      "text/plain": [
       "   sepal length (cm)  sepal width (cm)  petal length (cm)  petal width (cm)\n",
       "0                5.1               3.5                1.4               0.2\n",
       "1                4.9               3.0                1.4               0.2\n",
       "2                4.7               3.2                1.3               0.2\n",
       "3                4.6               3.1                1.5               0.2\n",
       "4                5.0               3.6                1.4               0.2"
      ]
     },
     "execution_count": 5,
     "metadata": {},
     "output_type": "execute_result"
    }
   ],
   "source": [
    "iris_data = load_iris()\n",
    "\n",
    "pd.DataFrame(iris_data.data, columns=iris_data.feature_names).head()"
   ]
  },
  {
   "cell_type": "code",
   "execution_count": 6,
   "id": "5a667d1e",
   "metadata": {},
   "outputs": [
    {
     "name": "stdout",
     "output_type": "stream",
     "text": [
      "(150, 4)\n",
      "(150,)\n",
      "Train set: \n",
      "(120, 4)\n",
      "(120,)\n",
      "\n",
      "Test set: \n",
      "(30, 4)\n",
      "(30,)\n"
     ]
    }
   ],
   "source": [
    "X = iris_data.data\n",
    "y = iris_data.target\n",
    "\n",
    "print(X.shape)\n",
    "print(y.shape)\n",
    "\n",
    "X_train, X_test, y_train, y_test = train_test_split(X, y, test_size=0.2, random_state=42)\n",
    "\n",
    "print('Train set: ')\n",
    "print(X_train.shape)\n",
    "print(y_train.shape)\n",
    "\n",
    "print('\\nTest set: ')\n",
    "print(X_test.shape)\n",
    "print(y_test.shape)"
   ]
  },
  {
   "cell_type": "markdown",
   "id": "e4c9b83f",
   "metadata": {},
   "source": [
    "***Using Sklearn library***"
   ]
  },
  {
   "cell_type": "code",
   "execution_count": 7,
   "id": "a4d18810",
   "metadata": {},
   "outputs": [
    {
     "name": "stdout",
     "output_type": "stream",
     "text": [
      "Accuracy score: 1.0\n"
     ]
    }
   ],
   "source": [
    "model = KNeighborsClassifier(n_neighbors=3)\n",
    "model.fit(X_train, y_train)\n",
    "y_pred = model.predict(X_test)\n",
    "\n",
    "print(f'Accuracy score: {accuracy_score(y_test, y_pred)}')"
   ]
  },
  {
   "cell_type": "markdown",
   "id": "6e4bf046",
   "metadata": {},
   "source": [
    "***Implemented KNN Classifier***"
   ]
  },
  {
   "cell_type": "code",
   "execution_count": 8,
   "id": "11709627",
   "metadata": {},
   "outputs": [
    {
     "name": "stdout",
     "output_type": "stream",
     "text": [
      "Accuracy score: 1.0\n"
     ]
    }
   ],
   "source": [
    "y_pred = knn_classifier(X_train, y_train, X_test, n_neighbors=3)\n",
    "\n",
    "print(f'Accuracy score: {accuracy_score(y_test, y_pred)}')"
   ]
  },
  {
   "cell_type": "markdown",
   "id": "ae0377fe",
   "metadata": {},
   "source": [
    "### Diabetes Dataset"
   ]
  },
  {
   "cell_type": "code",
   "execution_count": 9,
   "id": "816e2d6f",
   "metadata": {},
   "outputs": [
    {
     "data": {
      "text/html": [
       "<div>\n",
       "<style scoped>\n",
       "    .dataframe tbody tr th:only-of-type {\n",
       "        vertical-align: middle;\n",
       "    }\n",
       "\n",
       "    .dataframe tbody tr th {\n",
       "        vertical-align: top;\n",
       "    }\n",
       "\n",
       "    .dataframe thead th {\n",
       "        text-align: right;\n",
       "    }\n",
       "</style>\n",
       "<table border=\"1\" class=\"dataframe\">\n",
       "  <thead>\n",
       "    <tr style=\"text-align: right;\">\n",
       "      <th></th>\n",
       "      <th>age</th>\n",
       "      <th>sex</th>\n",
       "      <th>bmi</th>\n",
       "      <th>bp</th>\n",
       "      <th>s1</th>\n",
       "      <th>s2</th>\n",
       "      <th>s3</th>\n",
       "      <th>s4</th>\n",
       "      <th>s5</th>\n",
       "      <th>s6</th>\n",
       "    </tr>\n",
       "  </thead>\n",
       "  <tbody>\n",
       "    <tr>\n",
       "      <th>0</th>\n",
       "      <td>0.038076</td>\n",
       "      <td>0.050680</td>\n",
       "      <td>0.061696</td>\n",
       "      <td>0.021872</td>\n",
       "      <td>-0.044223</td>\n",
       "      <td>-0.034821</td>\n",
       "      <td>-0.043401</td>\n",
       "      <td>-0.002592</td>\n",
       "      <td>0.019908</td>\n",
       "      <td>-0.017646</td>\n",
       "    </tr>\n",
       "    <tr>\n",
       "      <th>1</th>\n",
       "      <td>-0.001882</td>\n",
       "      <td>-0.044642</td>\n",
       "      <td>-0.051474</td>\n",
       "      <td>-0.026328</td>\n",
       "      <td>-0.008449</td>\n",
       "      <td>-0.019163</td>\n",
       "      <td>0.074412</td>\n",
       "      <td>-0.039493</td>\n",
       "      <td>-0.068330</td>\n",
       "      <td>-0.092204</td>\n",
       "    </tr>\n",
       "    <tr>\n",
       "      <th>2</th>\n",
       "      <td>0.085299</td>\n",
       "      <td>0.050680</td>\n",
       "      <td>0.044451</td>\n",
       "      <td>-0.005671</td>\n",
       "      <td>-0.045599</td>\n",
       "      <td>-0.034194</td>\n",
       "      <td>-0.032356</td>\n",
       "      <td>-0.002592</td>\n",
       "      <td>0.002864</td>\n",
       "      <td>-0.025930</td>\n",
       "    </tr>\n",
       "    <tr>\n",
       "      <th>3</th>\n",
       "      <td>-0.089063</td>\n",
       "      <td>-0.044642</td>\n",
       "      <td>-0.011595</td>\n",
       "      <td>-0.036656</td>\n",
       "      <td>0.012191</td>\n",
       "      <td>0.024991</td>\n",
       "      <td>-0.036038</td>\n",
       "      <td>0.034309</td>\n",
       "      <td>0.022692</td>\n",
       "      <td>-0.009362</td>\n",
       "    </tr>\n",
       "    <tr>\n",
       "      <th>4</th>\n",
       "      <td>0.005383</td>\n",
       "      <td>-0.044642</td>\n",
       "      <td>-0.036385</td>\n",
       "      <td>0.021872</td>\n",
       "      <td>0.003935</td>\n",
       "      <td>0.015596</td>\n",
       "      <td>0.008142</td>\n",
       "      <td>-0.002592</td>\n",
       "      <td>-0.031991</td>\n",
       "      <td>-0.046641</td>\n",
       "    </tr>\n",
       "  </tbody>\n",
       "</table>\n",
       "</div>"
      ],
      "text/plain": [
       "        age       sex       bmi        bp        s1        s2        s3  \\\n",
       "0  0.038076  0.050680  0.061696  0.021872 -0.044223 -0.034821 -0.043401   \n",
       "1 -0.001882 -0.044642 -0.051474 -0.026328 -0.008449 -0.019163  0.074412   \n",
       "2  0.085299  0.050680  0.044451 -0.005671 -0.045599 -0.034194 -0.032356   \n",
       "3 -0.089063 -0.044642 -0.011595 -0.036656  0.012191  0.024991 -0.036038   \n",
       "4  0.005383 -0.044642 -0.036385  0.021872  0.003935  0.015596  0.008142   \n",
       "\n",
       "         s4        s5        s6  \n",
       "0 -0.002592  0.019908 -0.017646  \n",
       "1 -0.039493 -0.068330 -0.092204  \n",
       "2 -0.002592  0.002864 -0.025930  \n",
       "3  0.034309  0.022692 -0.009362  \n",
       "4 -0.002592 -0.031991 -0.046641  "
      ]
     },
     "execution_count": 9,
     "metadata": {},
     "output_type": "execute_result"
    }
   ],
   "source": [
    "diabetes_data = load_diabetes()\n",
    "\n",
    "pd.DataFrame(data=diabetes_data.data, columns=diabetes_data.feature_names).head()"
   ]
  },
  {
   "cell_type": "code",
   "execution_count": 10,
   "id": "f2524f42",
   "metadata": {},
   "outputs": [
    {
     "name": "stdout",
     "output_type": "stream",
     "text": [
      "(442, 10)\n",
      "(442,)\n",
      "Train set: \n",
      "(353, 10)\n",
      "(353,)\n",
      "\n",
      "Test set: \n",
      "(89, 10)\n",
      "(89,)\n"
     ]
    }
   ],
   "source": [
    "X = diabetes_data.data\n",
    "y = diabetes_data.target\n",
    "\n",
    "print(X.shape)\n",
    "print(y.shape)\n",
    "\n",
    "X_train, X_test, y_train, y_test = train_test_split(X, y, test_size=0.2, random_state=42)\n",
    "\n",
    "print('Train set: ')\n",
    "print(X_train.shape)\n",
    "print(y_train.shape)\n",
    "\n",
    "print('\\nTest set: ')\n",
    "print(X_test.shape)\n",
    "print(y_test.shape)"
   ]
  },
  {
   "cell_type": "markdown",
   "id": "5e4e361d",
   "metadata": {},
   "source": [
    "***Using sklearn library***"
   ]
  },
  {
   "cell_type": "code",
   "execution_count": 11,
   "id": "ff6a191a",
   "metadata": {},
   "outputs": [
    {
     "name": "stdout",
     "output_type": "stream",
     "text": [
      "MSE: 3019.075505617978\n"
     ]
    }
   ],
   "source": [
    "model = KNeighborsRegressor(n_neighbors=5)\n",
    "model.fit(X_train, y_train)\n",
    "y_pred = model.predict(X_test)\n",
    "\n",
    "print(f'MSE: {mean_squared_error(y_test, y_pred)}')"
   ]
  },
  {
   "cell_type": "markdown",
   "id": "1271afb0",
   "metadata": {},
   "source": [
    "***Implemented KNN Regressor***"
   ]
  },
  {
   "cell_type": "code",
   "execution_count": 12,
   "id": "97182041",
   "metadata": {},
   "outputs": [
    {
     "name": "stdout",
     "output_type": "stream",
     "text": [
      "MSE: 3019.075505617978\n"
     ]
    }
   ],
   "source": [
    "y_pred = knn_regressor(X_train, y_train, X_test, n_neighbors=5)\n",
    "\n",
    "print(f'MSE: {mean_squared_error(y_test, y_pred)}')"
   ]
  },
  {
   "cell_type": "markdown",
   "id": "c04dd654",
   "metadata": {},
   "source": [
    "***Finding the best value for K***"
   ]
  },
  {
   "cell_type": "code",
   "execution_count": 13,
   "id": "a88d7f5f",
   "metadata": {},
   "outputs": [
    {
     "data": {
      "image/png": "[encoded data removed]",
      "text/plain": [
       "<Figure size 864x432 with 1 Axes>"
      ]
     },
     "metadata": {
      "needs_background": "light"
     },
     "output_type": "display_data"
    }
   ],
   "source": [
    "errors = {}\n",
    "for k in range(1, 150):\n",
    "    y_pred = knn_regressor(X_train, y_train, X_test, n_neighbors=k)\n",
    "    errors[k] = mean_squared_error(y_test, y_pred)    # Mean Squared Error\n",
    "\n",
    "plt.figure(figsize=(12, 6))\n",
    "plt.plot(list(errors.keys()), list(errors.values()), color='green', linestyle='dashed', marker='o', markerfacecolor='red', markersize=6)\n",
    "plt.title('Error rates for K')\n",
    "plt.xlabel('K value')\n",
    "plt.ylabel('Mean Squared error')\n",
    "plt.show()"
   ]
  },
  {
   "cell_type": "code",
   "execution_count": 14,
   "id": "da25ccc4",
   "metadata": {},
   "outputs": [
    {
     "name": "stdout",
     "output_type": "stream",
     "text": [
      "K with minimum MSE: 6\n"
     ]
    }
   ],
   "source": [
    "print(f'K with minimum MSE: {min(errors, key=lambda x: errors[x])}')"
   ]
  }
 ],
 "metadata": {
  "kernelspec": {
   "display_name": "Python 3 (ipykernel)",
   "language": "python",
   "name": "python3"
  },
  "language_info": {
   "codemirror_mode": {
    "name": "ipython",
    "version": 3
   },
   "file_extension": ".py",
   "mimetype": "text/x-python",
   "name": "python",
   "nbconvert_exporter": "python",
   "pygments_lexer": "ipython3",
   "version": "3.8.0"
  }
 },
 "nbformat": 4,
 "nbformat_minor": 5
}
