{
 "cells": [
  {
   "cell_type": "code",
   "execution_count": 1,
   "metadata": {},
   "outputs": [],
   "source": [
    "import numpy as np\n",
    "import pandas as pd\n",
    "import matplotlib.pyplot as plt\n",
    "from scipy.optimize import fmin_tnc\n",
    "from scipy.io import loadmat\n",
    "from sklearn.preprocessing import PolynomialFeatures, StandardScaler"
   ]
  },
  {
   "cell_type": "markdown",
   "metadata": {},
   "source": [
    "### Linear Regression"
   ]
  },
  {
   "cell_type": "code",
   "execution_count": 2,
   "metadata": {},
   "outputs": [],
   "source": [
    "def cost_func(theta, X, y, lambda_):\n",
    "    m = X.shape[0]\n",
    "    h = X @ theta\n",
    "    J = (1 / (2*m)) * np.sum((h - y) ** 2)\n",
    "    reg = (lambda_ / (2*m)) * np.sum(theta[1:] ** 2)\n",
    "    J = J + reg\n",
    "    \n",
    "    delta = (1/m) * (X.T @ (h - y))\n",
    "    grad = np.zeros((theta.shape))\n",
    "    grad[0] = delta[0]\n",
    "    grad[1:] = delta[1:] + (lambda_ / m) * theta[1:]\n",
    "    return J, grad"
   ]
  },
  {
   "cell_type": "code",
   "execution_count": 3,
   "metadata": {},
   "outputs": [],
   "source": [
    "class LinearRegression:\n",
    "    def __init__(self, X, y):\n",
    "        self.X = X.astype(float)\n",
    "        self.y = y.astype(float)\n",
    "        self.m = X.shape[0]            # no. of data\n",
    "        self.n = X.shape[1]            # no. of features\n",
    "        self.theta = np.zeros((self.n, 1))\n",
    "    \n",
    "    def fit(self, lambda_=0):\n",
    "        self.theta = fmin_tnc(func=cost_func, x0=self.theta, args=(self.X, self.y.flatten(), lambda_))[0].reshape(self.n, 1)\n",
    "        \n",
    "    def predict(self, X_test):\n",
    "        return X_test @ self.theta\n",
    "    \n",
    "    def get_cost(self, X, y):\n",
    "        m = X.shape[0]\n",
    "        h = X @ self.theta\n",
    "        J = (1 / (2*m)) * np.sum((h - y) ** 2)\n",
    "        return J"
   ]
  },
  {
   "cell_type": "markdown",
   "metadata": {},
   "source": [
    "### Example (Bias and Variance)"
   ]
  },
  {
   "cell_type": "code",
   "execution_count": 4,
   "metadata": {},
   "outputs": [
    {
     "name": "stdout",
     "output_type": "stream",
     "text": [
      "(12, 1) (12, 1)\n",
      "(21, 1) (21, 1)\n",
      "(21, 1) (21, 1)\n"
     ]
    }
   ],
   "source": [
    "mat = loadmat('..\\datasets\\ex5data1.mat')\n",
    "X_train = mat['X']\n",
    "y_train = mat['y']\n",
    "X_val = mat['Xval']\n",
    "y_val = mat['yval']\n",
    "X_test = mat['Xtest']\n",
    "y_test = mat['ytest']\n",
    "print(X_train.shape, y_train.shape)\n",
    "print(X_val.shape, y_val.shape)\n",
    "print(X_test.shape, y_test.shape)"
   ]
  },
  {
   "cell_type": "code",
   "execution_count": 5,
   "metadata": {},
   "outputs": [],
   "source": [
    "# adding constant column\n",
    "X_train = np.hstack((np.ones((X_train.shape[0], 1)), X_train))\n",
    "X_val = np.hstack((np.ones((X_val.shape[0], 1)), X_val))\n",
    "X_test = np.hstack((np.ones((X_test.shape[0], 1)), X_test))"
   ]
  },
  {
   "cell_type": "code",
   "execution_count": 6,
   "metadata": {},
   "outputs": [],
   "source": [
    "model = LinearRegression(X_train, y_train)\n",
    "model.fit(lambda_=1)"
   ]
  },
  {
   "cell_type": "code",
   "execution_count": 7,
   "metadata": {},
   "outputs": [
    {
     "data": {
      "text/plain": [
       "32.506665260467635"
      ]
     },
     "execution_count": 7,
     "metadata": {},
     "output_type": "execute_result"
    }
   ],
   "source": [
    "y_pred = model.predict(X_test)\n",
    "model.get_cost(X_test, y_test)"
   ]
  },
  {
   "cell_type": "code",
   "execution_count": 8,
   "metadata": {},
   "outputs": [
    {
     "data": {
      "text/plain": [
       "[<matplotlib.lines.Line2D at 0x2a310249f40>]"
      ]
     },
     "execution_count": 8,
     "metadata": {},
     "output_type": "execute_result"
    },
    {
     "data": {
      "image/png": "[encoded data removed]",
      "text/plain": [
       "<Figure size 432x288 with 1 Axes>"
      ]
     },
     "metadata": {
      "needs_background": "light"
     },
     "output_type": "display_data"
    }
   ],
   "source": [
    "plt.scatter(X_test[:, 1], y_test)\n",
    "plt.plot(X_test[:, 1], y_pred)"
   ]
  },
  {
   "cell_type": "code",
   "execution_count": 9,
   "metadata": {},
   "outputs": [],
   "source": [
    "# Learning curve\n",
    "def draw_learning_curve(X_train, y_train, X_val, y_val):\n",
    "    m = X_train.shape[0]\n",
    "    error_train = np.zeros((m, 1))\n",
    "    error_val = np.zeros((m, 1))\n",
    "\n",
    "    for i in range(1, m+1):\n",
    "        l_X_train = X_train[:i, :]\n",
    "        l_y_train = y_train[:i, :]\n",
    "        lr = LinearRegression(l_X_train, l_y_train)\n",
    "        lr.fit(lambda_=1)\n",
    "        error_train[i-1] = lr.get_cost(l_X_train, l_y_train)\n",
    "        error_val[i-1] = lr.get_cost(X_val, y_val)\n",
    "\n",
    "    plt.plot(np.arange(m), error_train, label='Train')\n",
    "    plt.plot(np.arange(m), error_val, label='Cross Validation')\n",
    "    plt.title('Learning curve for linear regression')\n",
    "    plt.xlabel('Number of training examples')\n",
    "    plt.ylabel('Error')\n",
    "    plt.legend()\n",
    "    plt.show()"
   ]
  },
  {
   "cell_type": "code",
   "execution_count": 10,
   "metadata": {},
   "outputs": [
    {
     "data": {
      "image/png": "[encoded data removed]",
      "text/plain": [
       "<Figure size 432x288 with 1 Axes>"
      ]
     },
     "metadata": {
      "needs_background": "light"
     },
     "output_type": "display_data"
    }
   ],
   "source": [
    "draw_learning_curve(X_train, y_train, X_val, y_val)"
   ]
  },
  {
   "cell_type": "markdown",
   "metadata": {},
   "source": [
    "So, this model has high <b>Bias.</b>\n",
    "\n",
    "Adding polynomial features (X, X<sup>2</sup>, , X<sup>3</sup>, ...) would be a good option.\n",
    "\n",
    "But the features would be badly scaled (e.g., an example with x= 40 will now have a feature x<sub>8</sub>= 40<sup>8</sup>= 6.5×10<sup>12</sup>). So feature normalization is a must."
   ]
  },
  {
   "cell_type": "markdown",
   "metadata": {},
   "source": [
    "#### Adding Polynomial Features "
   ]
  },
  {
   "cell_type": "code",
   "execution_count": 20,
   "metadata": {},
   "outputs": [
    {
     "name": "stdout",
     "output_type": "stream",
     "text": [
      "(12, 1) (12, 1)\n",
      "(21, 1) (21, 1)\n",
      "(21, 1) (21, 1)\n"
     ]
    }
   ],
   "source": [
    "X_train = mat['X']\n",
    "y_train = mat['y']\n",
    "X_val = mat['Xval']\n",
    "y_val = mat['yval']\n",
    "X_test = mat['Xtest']\n",
    "y_test = mat['ytest']\n",
    "print(X_train.shape, y_train.shape)\n",
    "print(X_val.shape, y_val.shape)\n",
    "print(X_test.shape, y_test.shape)"
   ]
  },
  {
   "cell_type": "code",
   "execution_count": 21,
   "metadata": {},
   "outputs": [
    {
     "data": {
      "image/png": "[encoded data removed]",
      "text/plain": [
       "<Figure size 432x288 with 1 Axes>"
      ]
     },
     "metadata": {
      "needs_background": "light"
     },
     "output_type": "display_data"
    }
   ],
   "source": [
    "degree = 10\n",
    "error_train = np.zeros((degree, 1))\n",
    "error_val = np.zeros((degree, 1))\n",
    "\n",
    "for d in range(1, degree+1):\n",
    "    # Adding polynomial features\n",
    "    poly = PolynomialFeatures(d)\n",
    "    poly_X_train = poly.fit_transform(X_train)[:, 1:]\n",
    "    poly_X_val = poly.fit_transform(X_val)[:, 1:]\n",
    "    \n",
    "    # Feature normalization\n",
    "    scaler = StandardScaler()\n",
    "    poly_X_train = scaler.fit_transform(poly_X_train)\n",
    "    poly_X_val = scaler.fit_transform(poly_X_val)\n",
    "    \n",
    "    # Add Ones\n",
    "    poly_X_train = np.hstack((np.ones((poly_X_train.shape[0], 1)), poly_X_train))\n",
    "    poly_X_val = np.hstack((np.ones((poly_X_val.shape[0], 1)), poly_X_val))\n",
    "    \n",
    "    lr = LinearRegression(poly_X_train, y_train)\n",
    "    lr.fit(lambda_=1)\n",
    "    error_train[d-1] = lr.get_cost(poly_X_train, y_train)\n",
    "    error_val[d-1] = lr.get_cost(poly_X_val, y_val)\n",
    "\n",
    "plt.plot(np.arange(1, degree+1), error_train, label='Train')\n",
    "plt.plot(np.arange(1, degree+1), error_val, label='Cross Validation')\n",
    "plt.xlabel('Degree of Polynomial')\n",
    "plt.ylabel('Error')\n",
    "plt.legend()\n",
    "plt.show()"
   ]
  },
  {
   "cell_type": "markdown",
   "metadata": {},
   "source": [
    "<b>degree = 8</b> seems sweet spot."
   ]
  },
  {
   "cell_type": "code",
   "execution_count": 13,
   "metadata": {},
   "outputs": [],
   "source": [
    "# Adding polynomial features\n",
    "poly = PolynomialFeatures(8)\n",
    "X_train = poly.fit_transform(X_train)[:, 1:]\n",
    "X_val = poly.fit_transform(X_val)[:, 1:]\n",
    "X_test = poly.fit_transform(X_test)[:, 1:]\n",
    "\n",
    "# Feature normalization\n",
    "scaler = StandardScaler()\n",
    "X_train = scaler.fit_transform(X_train)\n",
    "X_val = scaler.fit_transform(X_val)\n",
    "X_test = scaler.fit_transform(X_test)\n",
    "\n",
    "# Add Ones\n",
    "X_train = np.hstack((np.ones((X_train.shape[0], 1)), X_train))\n",
    "X_val = np.hstack((np.ones((X_val.shape[0], 1)), X_val))\n",
    "X_test = np.hstack((np.ones((X_test.shape[0], 1)), X_test))"
   ]
  },
  {
   "cell_type": "code",
   "execution_count": 14,
   "metadata": {},
   "outputs": [],
   "source": [
    "model = LinearRegression(X_train, y_train)\n",
    "model.fit(lambda_=1)"
   ]
  },
  {
   "cell_type": "code",
   "execution_count": 15,
   "metadata": {},
   "outputs": [
    {
     "data": {
      "text/plain": [
       "7.851578582532761"
      ]
     },
     "execution_count": 15,
     "metadata": {},
     "output_type": "execute_result"
    }
   ],
   "source": [
    "y_pred = model.predict(X_test)\n",
    "model.get_cost(X_test, y_test)"
   ]
  },
  {
   "cell_type": "code",
   "execution_count": 16,
   "metadata": {},
   "outputs": [
    {
     "data": {
      "text/plain": [
       "<matplotlib.collections.PathCollection at 0x2a312331730>"
      ]
     },
     "execution_count": 16,
     "metadata": {},
     "output_type": "execute_result"
    },
    {
     "data": {
      "image/png": "[encoded data removed]",
      "text/plain": [
       "<Figure size 432x288 with 1 Axes>"
      ]
     },
     "metadata": {
      "needs_background": "light"
     },
     "output_type": "display_data"
    }
   ],
   "source": [
    "plt.scatter(X_test[:, 1], y_test)\n",
    "plt.scatter(X_test[:, 1], y_pred)"
   ]
  },
  {
   "cell_type": "code",
   "execution_count": 17,
   "metadata": {},
   "outputs": [
    {
     "data": {
      "image/png": "[encoded data removed]",
      "text/plain": [
       "<Figure size 432x288 with 1 Axes>"
      ]
     },
     "metadata": {
      "needs_background": "light"
     },
     "output_type": "display_data"
    }
   ],
   "source": [
    "draw_learning_curve(X_train, y_train, X_val, y_val)"
   ]
  }
 ],
 "metadata": {
  "kernelspec": {
   "display_name": "Python 3",
   "language": "python",
   "name": "python3"
  },
  "language_info": {
   "codemirror_mode": {
    "name": "ipython",
    "version": 3
   },
   "file_extension": ".py",
   "mimetype": "text/x-python",
   "name": "python",
   "nbconvert_exporter": "python",
   "pygments_lexer": "ipython3",
   "version": "3.8.1"
  }
 },
 "nbformat": 4,
 "nbformat_minor": 4
}
