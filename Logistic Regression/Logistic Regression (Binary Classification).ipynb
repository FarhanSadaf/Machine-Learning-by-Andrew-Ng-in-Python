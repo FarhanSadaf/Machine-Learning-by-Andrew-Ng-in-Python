{
 "cells": [
  {
   "cell_type": "code",
   "execution_count": 1,
   "metadata": {},
   "outputs": [],
   "source": [
    "import numpy as np\n",
    "import pandas as pd\n",
    "import matplotlib.pyplot as plt\n",
    "from scipy.io import loadmat\n",
    "from scipy.optimize import fmin_tnc\n",
    "from sklearn.metrics import accuracy_score"
   ]
  },
  {
   "cell_type": "code",
   "execution_count": 2,
   "metadata": {},
   "outputs": [],
   "source": [
    "def sigmoid(z):\n",
    "    return 1 / (1 + np.exp(-z))"
   ]
  },
  {
   "cell_type": "code",
   "execution_count": 3,
   "metadata": {},
   "outputs": [],
   "source": [
    "def cost_func(theta, X, y, lambda_):\n",
    "    m = y.shape[0]\n",
    "    h = sigmoid(X @ theta)\n",
    "    J = -np.sum(y * np.log(h) + (1 - y) * np.log(1-h)) / m\n",
    "    reg = (lambda_ / (2*m)) * np.sum(theta[1:] ** 2)\n",
    "    J = J + reg\n",
    "    \n",
    "    delta = ((h - y).T @ X).T / m\n",
    "    grad = np.zeros((theta.shape))\n",
    "    grad[0] = delta[0]\n",
    "    grad[1:] = delta[1:] + (lambda_ / m) * theta[1:]\n",
    "    return J, grad"
   ]
  },
  {
   "cell_type": "markdown",
   "metadata": {},
   "source": [
    "## Binary Classification"
   ]
  },
  {
   "cell_type": "markdown",
   "metadata": {},
   "source": [
    "### Gradient Descent"
   ]
  },
  {
   "cell_type": "code",
   "execution_count": 4,
   "metadata": {},
   "outputs": [],
   "source": [
    "class GradientDescent:\n",
    "    def __init__(self, X, y):\n",
    "        self.X = X.astype(float)\n",
    "        self.y = y.astype(float)\n",
    "        self.m = X.shape[0]            # no. of data\n",
    "        self.n = X.shape[1]            # no. of features\n",
    "        self.theta = np.zeros((self.n, 1))\n",
    "        \n",
    "    def fit(self, alpha, no_iter, lambda_):\n",
    "        J = []\n",
    "        for _ in range(no_iter):\n",
    "            cost, grad = cost_func(self.theta, self.X, self.y, lambda_)\n",
    "            self.theta = self.theta - (alpha * grad)\n",
    "            J.append(cost)\n",
    "            \n",
    "        plt.plot(np.arange(no_iter), J)\n",
    "        plt.xlabel('No. of iterations')\n",
    "        plt.ylabel('$J(\\Theta)$')\n",
    "        plt.show()\n",
    "    \n",
    "    def predict(self, X_test):\n",
    "        bin_func = np.vectorize(lambda v: 1 if v >= 0.5 else 0)\n",
    "        return bin_func(sigmoid(X_test @ self.theta))"
   ]
  },
  {
   "cell_type": "markdown",
   "metadata": {},
   "source": [
    "### Advanced Optimization"
   ]
  },
  {
   "cell_type": "code",
   "execution_count": 5,
   "metadata": {},
   "outputs": [],
   "source": [
    "class AdvancedOptimization:\n",
    "    def __init__(self, X, y):\n",
    "        self.X = X.astype(float)\n",
    "        self.y = y.astype(float)\n",
    "        self.m = X.shape[0]            # no. of data\n",
    "        self.n = X.shape[1]            # no. of features\n",
    "        self.theta = np.zeros((self.n, 1))\n",
    "        \n",
    "    def fit(self, lambda_):\n",
    "        out = fmin_tnc(func=cost_func, x0=self.theta, args=(self.X, self.y.flatten(), lambda_))\n",
    "        self.theta = out[0].reshape((self.n, 1))\n",
    "    \n",
    "    def predict(self, X_test):\n",
    "        bin_func = np.vectorize(lambda v: 1 if v >= 0.5 else 0)\n",
    "        return bin_func(sigmoid(X_test @ self.theta))"
   ]
  },
  {
   "cell_type": "markdown",
   "metadata": {},
   "source": [
    "### Examples"
   ]
  },
  {
   "cell_type": "code",
   "execution_count": 6,
   "metadata": {},
   "outputs": [],
   "source": [
    "def map_feature(x1, x2, degree=1):\n",
    "    '''\n",
    "    return: 1, x, y, x**2, xy, y**2, x**3, x**2 y, x y**2, y**3, ... \n",
    "    '''\n",
    "    out = np.ones((x1.shape[0], 1))\n",
    "    for i in range(1, degree+1):\n",
    "        for j in range(i+1):\n",
    "            terms = (x1**(i-j) * x2**j).reshape(-1, 1)\n",
    "            out = np.hstack((out, terms))\n",
    "    return out"
   ]
  },
  {
   "cell_type": "code",
   "execution_count": 7,
   "metadata": {},
   "outputs": [
    {
     "data": {
      "text/html": [
       "<div>\n",
       "<style scoped>\n",
       "    .dataframe tbody tr th:only-of-type {\n",
       "        vertical-align: middle;\n",
       "    }\n",
       "\n",
       "    .dataframe tbody tr th {\n",
       "        vertical-align: top;\n",
       "    }\n",
       "\n",
       "    .dataframe thead th {\n",
       "        text-align: right;\n",
       "    }\n",
       "</style>\n",
       "<table border=\"1\" class=\"dataframe\">\n",
       "  <thead>\n",
       "    <tr style=\"text-align: right;\">\n",
       "      <th></th>\n",
       "      <th>0</th>\n",
       "      <th>1</th>\n",
       "      <th>2</th>\n",
       "    </tr>\n",
       "  </thead>\n",
       "  <tbody>\n",
       "    <tr>\n",
       "      <th>0</th>\n",
       "      <td>0.051267</td>\n",
       "      <td>0.69956</td>\n",
       "      <td>1</td>\n",
       "    </tr>\n",
       "    <tr>\n",
       "      <th>1</th>\n",
       "      <td>-0.092742</td>\n",
       "      <td>0.68494</td>\n",
       "      <td>1</td>\n",
       "    </tr>\n",
       "    <tr>\n",
       "      <th>2</th>\n",
       "      <td>-0.213710</td>\n",
       "      <td>0.69225</td>\n",
       "      <td>1</td>\n",
       "    </tr>\n",
       "    <tr>\n",
       "      <th>3</th>\n",
       "      <td>-0.375000</td>\n",
       "      <td>0.50219</td>\n",
       "      <td>1</td>\n",
       "    </tr>\n",
       "    <tr>\n",
       "      <th>4</th>\n",
       "      <td>-0.513250</td>\n",
       "      <td>0.46564</td>\n",
       "      <td>1</td>\n",
       "    </tr>\n",
       "  </tbody>\n",
       "</table>\n",
       "</div>"
      ],
      "text/plain": [
       "          0        1  2\n",
       "0  0.051267  0.69956  1\n",
       "1 -0.092742  0.68494  1\n",
       "2 -0.213710  0.69225  1\n",
       "3 -0.375000  0.50219  1\n",
       "4 -0.513250  0.46564  1"
      ]
     },
     "execution_count": 7,
     "metadata": {},
     "output_type": "execute_result"
    }
   ],
   "source": [
    "df = pd.read_csv('..\\datasets\\ex2data2.txt', header=None)\n",
    "df.head()"
   ]
  },
  {
   "cell_type": "code",
   "execution_count": 8,
   "metadata": {},
   "outputs": [
    {
     "name": "stdout",
     "output_type": "stream",
     "text": [
      "(118, 2) (118,)\n"
     ]
    }
   ],
   "source": [
    "X = df.iloc[:, :-1].values\n",
    "y = df.iloc[:, -1].values\n",
    "print(X.shape, y.shape)"
   ]
  },
  {
   "cell_type": "code",
   "execution_count": 9,
   "metadata": {},
   "outputs": [
    {
     "data": {
      "image/png": "[encoded data removed]",
      "text/plain": [
       "<Figure size 432x288 with 1 Axes>"
      ]
     },
     "metadata": {
      "needs_background": "light"
     },
     "output_type": "display_data"
    }
   ],
   "source": [
    "plt.scatter(X[y==0, 0], X[y==0, 1], c='r', marker='.', label='Failed')\n",
    "plt.scatter(X[y==1, 0], X[y==1, 1], c='b', marker='+', label='Passed')\n",
    "plt.legend()\n",
    "plt.show()"
   ]
  },
  {
   "cell_type": "code",
   "execution_count": 10,
   "metadata": {},
   "outputs": [],
   "source": [
    "X_train = map_feature(X[:, 0], X[:, 1], degree=6)\n",
    "y_train = y.reshape(-1, 1)"
   ]
  },
  {
   "cell_type": "markdown",
   "metadata": {},
   "source": [
    "#### Using gradient descent algorithm "
   ]
  },
  {
   "cell_type": "code",
   "execution_count": 11,
   "metadata": {},
   "outputs": [],
   "source": [
    "gd = GradientDescent(X_train, y_train)"
   ]
  },
  {
   "cell_type": "code",
   "execution_count": 12,
   "metadata": {},
   "outputs": [
    {
     "data": {
      "image/png": "[encoded data removed]",
      "text/plain": [
       "<Figure size 432x288 with 1 Axes>"
      ]
     },
     "metadata": {
      "needs_background": "light"
     },
     "output_type": "display_data"
    }
   ],
   "source": [
    "gd.fit(alpha=1, no_iter=800, lambda_=0.2)"
   ]
  },
  {
   "cell_type": "code",
   "execution_count": 13,
   "metadata": {},
   "outputs": [],
   "source": [
    "y_pred = gd.predict(X_train)"
   ]
  },
  {
   "cell_type": "code",
   "execution_count": 14,
   "metadata": {},
   "outputs": [
    {
     "data": {
      "text/plain": [
       "0.8305084745762712"
      ]
     },
     "execution_count": 14,
     "metadata": {},
     "output_type": "execute_result"
    }
   ],
   "source": [
    "accuracy_score(y_train, y_pred)"
   ]
  },
  {
   "cell_type": "code",
   "execution_count": 15,
   "metadata": {},
   "outputs": [],
   "source": [
    "# Desicion Boundary\n",
    "u = np.linspace(-1, 1.5, 100)\n",
    "v = np.linspace(-1, 1.5, 100)\n",
    "z = np.zeros((len(u), len(v)))\n",
    "\n",
    "for i in range(len(u)):\n",
    "    for j in range(len(v)):\n",
    "        z[i, j] = gd.predict(map_feature(np.array([ u[i] ]), np.array([ v[j] ]), degree=6))"
   ]
  },
  {
   "cell_type": "code",
   "execution_count": 16,
   "metadata": {},
   "outputs": [
    {
     "name": "stderr",
     "output_type": "stream",
     "text": [
      "<ipython-input-16-fcad9e58b9e5>:3: UserWarning: No contour levels were found within the data range.\n",
      "  plt.contour(u, v, z.T, 0)\n"
     ]
    },
    {
     "data": {
      "image/png": "[encoded data removed]",
      "text/plain": [
       "<Figure size 432x288 with 1 Axes>"
      ]
     },
     "metadata": {
      "needs_background": "light"
     },
     "output_type": "display_data"
    }
   ],
   "source": [
    "plt.scatter(X[y==0, 0], X[y==0, 1], c='r', marker='.', label='Failed')\n",
    "plt.scatter(X[y==1, 0], X[y==1, 1], c='b', marker='+', label='Passed')\n",
    "plt.contour(u, v, z.T, 0)\n",
    "plt.legend()\n",
    "plt.show()"
   ]
  },
  {
   "cell_type": "markdown",
   "metadata": {},
   "source": [
    "#### Using fmin_tnc"
   ]
  },
  {
   "cell_type": "code",
   "execution_count": 17,
   "metadata": {},
   "outputs": [],
   "source": [
    "ao = AdvancedOptimization(X_train, y_train)"
   ]
  },
  {
   "cell_type": "code",
   "execution_count": 18,
   "metadata": {},
   "outputs": [],
   "source": [
    "ao.fit(lambda_=1)"
   ]
  },
  {
   "cell_type": "code",
   "execution_count": 19,
   "metadata": {},
   "outputs": [],
   "source": [
    "y_pred2 = ao.predict(X_train)"
   ]
  },
  {
   "cell_type": "code",
   "execution_count": 20,
   "metadata": {},
   "outputs": [
    {
     "data": {
      "text/plain": [
       "0.8305084745762712"
      ]
     },
     "execution_count": 20,
     "metadata": {},
     "output_type": "execute_result"
    }
   ],
   "source": [
    "accuracy_score(y_train, y_pred2)"
   ]
  },
  {
   "cell_type": "code",
   "execution_count": null,
   "metadata": {},
   "outputs": [],
   "source": []
  }
 ],
 "metadata": {
  "kernelspec": {
   "display_name": "Python 3.8.1 64-bit",
   "language": "python",
   "name": "python38164bit11a20b4286324eb3a622ef61e0bf6461"
  },
  "language_info": {
   "codemirror_mode": {
    "name": "ipython",
    "version": 3
   },
   "file_extension": ".py",
   "mimetype": "text/x-python",
   "name": "python",
   "nbconvert_exporter": "python",
   "pygments_lexer": "ipython3",
   "version": "3.8.1"
  }
 },
 "nbformat": 4,
 "nbformat_minor": 4
}
